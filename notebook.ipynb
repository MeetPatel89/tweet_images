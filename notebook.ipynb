{
 "cells": [
  {
   "cell_type": "code",
   "execution_count": 1,
   "metadata": {},
   "outputs": [],
   "source": [
    "import pandas as pd \n",
    "import numpy as np \n",
    "from config import ROOT_DIR"
   ]
  },
  {
   "cell_type": "code",
   "execution_count": 5,
   "metadata": {},
   "outputs": [],
   "source": [
    "df = pd.read_csv(r\"https://www.dataquest.io/wp-content/uploads/2020/06/dataquest_tweets_csv.csv\")"
   ]
  },
  {
   "cell_type": "code",
   "execution_count": 6,
   "metadata": {},
   "outputs": [
    {
     "data": {
      "text/html": [
       "<div>\n",
       "<style scoped>\n",
       "    .dataframe tbody tr th:only-of-type {\n",
       "        vertical-align: middle;\n",
       "    }\n",
       "\n",
       "    .dataframe tbody tr th {\n",
       "        vertical-align: top;\n",
       "    }\n",
       "\n",
       "    .dataframe thead th {\n",
       "        text-align: right;\n",
       "    }\n",
       "</style>\n",
       "<table border=\"1\" class=\"dataframe\">\n",
       "  <thead>\n",
       "    <tr style=\"text-align: right;\">\n",
       "      <th></th>\n",
       "      <th>date</th>\n",
       "      <th>time</th>\n",
       "      <th>tweet</th>\n",
       "      <th>mentions</th>\n",
       "      <th>photos</th>\n",
       "      <th>replies_count</th>\n",
       "      <th>retweets_count</th>\n",
       "      <th>likes_count</th>\n",
       "    </tr>\n",
       "  </thead>\n",
       "  <tbody>\n",
       "    <tr>\n",
       "      <th>0</th>\n",
       "      <td>2020-06-29</td>\n",
       "      <td>09:36:13</td>\n",
       "      <td>\"Going from 15k to 170k in salary...There's no...</td>\n",
       "      <td>[]</td>\n",
       "      <td>['https://pbs.twimg.com/media/EbrvY0SWoAcEQWn....</td>\n",
       "      <td>0</td>\n",
       "      <td>0</td>\n",
       "      <td>0</td>\n",
       "    </tr>\n",
       "    <tr>\n",
       "      <th>1</th>\n",
       "      <td>2020-06-26</td>\n",
       "      <td>14:14:44</td>\n",
       "      <td>Hi Tom, sorry about that! We try to respond to...</td>\n",
       "      <td>['beingtomiwa']</td>\n",
       "      <td>[]</td>\n",
       "      <td>0</td>\n",
       "      <td>0</td>\n",
       "      <td>0</td>\n",
       "    </tr>\n",
       "    <tr>\n",
       "      <th>2</th>\n",
       "      <td>2020-06-26</td>\n",
       "      <td>12:00:14</td>\n",
       "      <td>Become an @rstudio power user: https://bit.ly/...</td>\n",
       "      <td>['rstudio']</td>\n",
       "      <td>[]</td>\n",
       "      <td>0</td>\n",
       "      <td>2</td>\n",
       "      <td>7</td>\n",
       "    </tr>\n",
       "    <tr>\n",
       "      <th>3</th>\n",
       "      <td>2020-06-26</td>\n",
       "      <td>11:23:21</td>\n",
       "      <td>Please get in touch with our support team by e...</td>\n",
       "      <td>['jimohkassim']</td>\n",
       "      <td>[]</td>\n",
       "      <td>0</td>\n",
       "      <td>0</td>\n",
       "      <td>0</td>\n",
       "    </tr>\n",
       "    <tr>\n",
       "      <th>4</th>\n",
       "      <td>2020-06-26</td>\n",
       "      <td>02:00:05</td>\n",
       "      <td>Learn to master R markdown in this free tutori...</td>\n",
       "      <td>[]</td>\n",
       "      <td>[]</td>\n",
       "      <td>0</td>\n",
       "      <td>2</td>\n",
       "      <td>7</td>\n",
       "    </tr>\n",
       "    <tr>\n",
       "      <th>...</th>\n",
       "      <td>...</td>\n",
       "      <td>...</td>\n",
       "      <td>...</td>\n",
       "      <td>...</td>\n",
       "      <td>...</td>\n",
       "      <td>...</td>\n",
       "      <td>...</td>\n",
       "      <td>...</td>\n",
       "    </tr>\n",
       "    <tr>\n",
       "      <th>4524</th>\n",
       "      <td>2015-07-01</td>\n",
       "      <td>20:35:57</td>\n",
       "      <td>@Ariella_CG Very strange, we'll look into this...</td>\n",
       "      <td>['ariella_cg']</td>\n",
       "      <td>[]</td>\n",
       "      <td>1</td>\n",
       "      <td>0</td>\n",
       "      <td>0</td>\n",
       "    </tr>\n",
       "    <tr>\n",
       "      <th>4525</th>\n",
       "      <td>2015-06-26</td>\n",
       "      <td>09:50:38</td>\n",
       "      <td>@taylor_atx @keen_io We used it at a learning ...</td>\n",
       "      <td>['taylor_atx', 'keen_io']</td>\n",
       "      <td>[]</td>\n",
       "      <td>1</td>\n",
       "      <td>0</td>\n",
       "      <td>1</td>\n",
       "    </tr>\n",
       "    <tr>\n",
       "      <th>4526</th>\n",
       "      <td>2015-06-25</td>\n",
       "      <td>20:53:37</td>\n",
       "      <td>@keen_io Thanks, we love keen.io (and are happ...</td>\n",
       "      <td>['keen_io']</td>\n",
       "      <td>[]</td>\n",
       "      <td>2</td>\n",
       "      <td>0</td>\n",
       "      <td>1</td>\n",
       "    </tr>\n",
       "    <tr>\n",
       "      <th>4527</th>\n",
       "      <td>2015-06-22</td>\n",
       "      <td>04:30:10</td>\n",
       "      <td>Why image recognition still needs a lot of wor...</td>\n",
       "      <td>[]</td>\n",
       "      <td>[]</td>\n",
       "      <td>0</td>\n",
       "      <td>0</td>\n",
       "      <td>0</td>\n",
       "    </tr>\n",
       "    <tr>\n",
       "      <th>4528</th>\n",
       "      <td>2015-06-21</td>\n",
       "      <td>15:08:14</td>\n",
       "      <td>Check out our lesson on naive bayes in #python...</td>\n",
       "      <td>[]</td>\n",
       "      <td>[]</td>\n",
       "      <td>0</td>\n",
       "      <td>0</td>\n",
       "      <td>4</td>\n",
       "    </tr>\n",
       "  </tbody>\n",
       "</table>\n",
       "<p>4529 rows × 8 columns</p>\n",
       "</div>"
      ],
      "text/plain": [
       "            date      time                                              tweet  \\\n",
       "0     2020-06-29  09:36:13  \"Going from 15k to 170k in salary...There's no...   \n",
       "1     2020-06-26  14:14:44  Hi Tom, sorry about that! We try to respond to...   \n",
       "2     2020-06-26  12:00:14  Become an @rstudio power user: https://bit.ly/...   \n",
       "3     2020-06-26  11:23:21  Please get in touch with our support team by e...   \n",
       "4     2020-06-26  02:00:05  Learn to master R markdown in this free tutori...   \n",
       "...          ...       ...                                                ...   \n",
       "4524  2015-07-01  20:35:57  @Ariella_CG Very strange, we'll look into this...   \n",
       "4525  2015-06-26  09:50:38  @taylor_atx @keen_io We used it at a learning ...   \n",
       "4526  2015-06-25  20:53:37  @keen_io Thanks, we love keen.io (and are happ...   \n",
       "4527  2015-06-22  04:30:10  Why image recognition still needs a lot of wor...   \n",
       "4528  2015-06-21  15:08:14  Check out our lesson on naive bayes in #python...   \n",
       "\n",
       "                       mentions  \\\n",
       "0                            []   \n",
       "1               ['beingtomiwa']   \n",
       "2                   ['rstudio']   \n",
       "3               ['jimohkassim']   \n",
       "4                            []   \n",
       "...                         ...   \n",
       "4524             ['ariella_cg']   \n",
       "4525  ['taylor_atx', 'keen_io']   \n",
       "4526                ['keen_io']   \n",
       "4527                         []   \n",
       "4528                         []   \n",
       "\n",
       "                                                 photos replies_count  \\\n",
       "0     ['https://pbs.twimg.com/media/EbrvY0SWoAcEQWn....             0   \n",
       "1                                                    []             0   \n",
       "2                                                    []             0   \n",
       "3                                                    []             0   \n",
       "4                                                    []             0   \n",
       "...                                                 ...           ...   \n",
       "4524                                                 []             1   \n",
       "4525                                                 []             1   \n",
       "4526                                                 []             2   \n",
       "4527                                                 []             0   \n",
       "4528                                                 []             0   \n",
       "\n",
       "      retweets_count  likes_count  \n",
       "0                  0            0  \n",
       "1                  0            0  \n",
       "2                  2            7  \n",
       "3                  0            0  \n",
       "4                  2            7  \n",
       "...              ...          ...  \n",
       "4524               0            0  \n",
       "4525               0            1  \n",
       "4526               0            1  \n",
       "4527               0            0  \n",
       "4528               0            4  \n",
       "\n",
       "[4529 rows x 8 columns]"
      ]
     },
     "execution_count": 6,
     "metadata": {},
     "output_type": "execute_result"
    }
   ],
   "source": [
    "df"
   ]
  },
  {
   "cell_type": "code",
   "execution_count": 7,
   "metadata": {},
   "outputs": [
    {
     "name": "stdout",
     "output_type": "stream",
     "text": [
      "<class 'pandas.core.frame.DataFrame'>\n",
      "RangeIndex: 4529 entries, 0 to 4528\n",
      "Data columns (total 8 columns):\n",
      " #   Column          Non-Null Count  Dtype \n",
      "---  ------          --------------  ----- \n",
      " 0   date            4529 non-null   object\n",
      " 1   time            4529 non-null   object\n",
      " 2   tweet           4529 non-null   object\n",
      " 3   mentions        4529 non-null   object\n",
      " 4   photos          4529 non-null   object\n",
      " 5   replies_count   4529 non-null   object\n",
      " 6   retweets_count  4529 non-null   int64 \n",
      " 7   likes_count     4529 non-null   int64 \n",
      "dtypes: int64(2), object(6)\n",
      "memory usage: 283.2+ KB\n"
     ]
    }
   ],
   "source": [
    "df.info()"
   ]
  },
  {
   "attachments": {},
   "cell_type": "markdown",
   "metadata": {},
   "source": [
    "#### Adding column 'hasimage' with boolean values"
   ]
  },
  {
   "cell_type": "code",
   "execution_count": 9,
   "metadata": {},
   "outputs": [],
   "source": [
    "df[\"hasimage\"] = np.where(df[\"photos\"] != \"[]\", True, False)"
   ]
  },
  {
   "cell_type": "code",
   "execution_count": 10,
   "metadata": {},
   "outputs": [
    {
     "data": {
      "text/html": [
       "<div>\n",
       "<style scoped>\n",
       "    .dataframe tbody tr th:only-of-type {\n",
       "        vertical-align: middle;\n",
       "    }\n",
       "\n",
       "    .dataframe tbody tr th {\n",
       "        vertical-align: top;\n",
       "    }\n",
       "\n",
       "    .dataframe thead th {\n",
       "        text-align: right;\n",
       "    }\n",
       "</style>\n",
       "<table border=\"1\" class=\"dataframe\">\n",
       "  <thead>\n",
       "    <tr style=\"text-align: right;\">\n",
       "      <th></th>\n",
       "      <th>date</th>\n",
       "      <th>time</th>\n",
       "      <th>tweet</th>\n",
       "      <th>mentions</th>\n",
       "      <th>photos</th>\n",
       "      <th>replies_count</th>\n",
       "      <th>retweets_count</th>\n",
       "      <th>likes_count</th>\n",
       "      <th>hasimage</th>\n",
       "    </tr>\n",
       "  </thead>\n",
       "  <tbody>\n",
       "    <tr>\n",
       "      <th>0</th>\n",
       "      <td>2020-06-29</td>\n",
       "      <td>09:36:13</td>\n",
       "      <td>\"Going from 15k to 170k in salary...There's no...</td>\n",
       "      <td>[]</td>\n",
       "      <td>['https://pbs.twimg.com/media/EbrvY0SWoAcEQWn....</td>\n",
       "      <td>0</td>\n",
       "      <td>0</td>\n",
       "      <td>0</td>\n",
       "      <td>True</td>\n",
       "    </tr>\n",
       "    <tr>\n",
       "      <th>1</th>\n",
       "      <td>2020-06-26</td>\n",
       "      <td>14:14:44</td>\n",
       "      <td>Hi Tom, sorry about that! We try to respond to...</td>\n",
       "      <td>['beingtomiwa']</td>\n",
       "      <td>[]</td>\n",
       "      <td>0</td>\n",
       "      <td>0</td>\n",
       "      <td>0</td>\n",
       "      <td>False</td>\n",
       "    </tr>\n",
       "    <tr>\n",
       "      <th>2</th>\n",
       "      <td>2020-06-26</td>\n",
       "      <td>12:00:14</td>\n",
       "      <td>Become an @rstudio power user: https://bit.ly/...</td>\n",
       "      <td>['rstudio']</td>\n",
       "      <td>[]</td>\n",
       "      <td>0</td>\n",
       "      <td>2</td>\n",
       "      <td>7</td>\n",
       "      <td>False</td>\n",
       "    </tr>\n",
       "    <tr>\n",
       "      <th>3</th>\n",
       "      <td>2020-06-26</td>\n",
       "      <td>11:23:21</td>\n",
       "      <td>Please get in touch with our support team by e...</td>\n",
       "      <td>['jimohkassim']</td>\n",
       "      <td>[]</td>\n",
       "      <td>0</td>\n",
       "      <td>0</td>\n",
       "      <td>0</td>\n",
       "      <td>False</td>\n",
       "    </tr>\n",
       "    <tr>\n",
       "      <th>4</th>\n",
       "      <td>2020-06-26</td>\n",
       "      <td>02:00:05</td>\n",
       "      <td>Learn to master R markdown in this free tutori...</td>\n",
       "      <td>[]</td>\n",
       "      <td>[]</td>\n",
       "      <td>0</td>\n",
       "      <td>2</td>\n",
       "      <td>7</td>\n",
       "      <td>False</td>\n",
       "    </tr>\n",
       "    <tr>\n",
       "      <th>...</th>\n",
       "      <td>...</td>\n",
       "      <td>...</td>\n",
       "      <td>...</td>\n",
       "      <td>...</td>\n",
       "      <td>...</td>\n",
       "      <td>...</td>\n",
       "      <td>...</td>\n",
       "      <td>...</td>\n",
       "      <td>...</td>\n",
       "    </tr>\n",
       "    <tr>\n",
       "      <th>4524</th>\n",
       "      <td>2015-07-01</td>\n",
       "      <td>20:35:57</td>\n",
       "      <td>@Ariella_CG Very strange, we'll look into this...</td>\n",
       "      <td>['ariella_cg']</td>\n",
       "      <td>[]</td>\n",
       "      <td>1</td>\n",
       "      <td>0</td>\n",
       "      <td>0</td>\n",
       "      <td>False</td>\n",
       "    </tr>\n",
       "    <tr>\n",
       "      <th>4525</th>\n",
       "      <td>2015-06-26</td>\n",
       "      <td>09:50:38</td>\n",
       "      <td>@taylor_atx @keen_io We used it at a learning ...</td>\n",
       "      <td>['taylor_atx', 'keen_io']</td>\n",
       "      <td>[]</td>\n",
       "      <td>1</td>\n",
       "      <td>0</td>\n",
       "      <td>1</td>\n",
       "      <td>False</td>\n",
       "    </tr>\n",
       "    <tr>\n",
       "      <th>4526</th>\n",
       "      <td>2015-06-25</td>\n",
       "      <td>20:53:37</td>\n",
       "      <td>@keen_io Thanks, we love keen.io (and are happ...</td>\n",
       "      <td>['keen_io']</td>\n",
       "      <td>[]</td>\n",
       "      <td>2</td>\n",
       "      <td>0</td>\n",
       "      <td>1</td>\n",
       "      <td>False</td>\n",
       "    </tr>\n",
       "    <tr>\n",
       "      <th>4527</th>\n",
       "      <td>2015-06-22</td>\n",
       "      <td>04:30:10</td>\n",
       "      <td>Why image recognition still needs a lot of wor...</td>\n",
       "      <td>[]</td>\n",
       "      <td>[]</td>\n",
       "      <td>0</td>\n",
       "      <td>0</td>\n",
       "      <td>0</td>\n",
       "      <td>False</td>\n",
       "    </tr>\n",
       "    <tr>\n",
       "      <th>4528</th>\n",
       "      <td>2015-06-21</td>\n",
       "      <td>15:08:14</td>\n",
       "      <td>Check out our lesson on naive bayes in #python...</td>\n",
       "      <td>[]</td>\n",
       "      <td>[]</td>\n",
       "      <td>0</td>\n",
       "      <td>0</td>\n",
       "      <td>4</td>\n",
       "      <td>False</td>\n",
       "    </tr>\n",
       "  </tbody>\n",
       "</table>\n",
       "<p>4529 rows × 9 columns</p>\n",
       "</div>"
      ],
      "text/plain": [
       "            date      time                                              tweet  \\\n",
       "0     2020-06-29  09:36:13  \"Going from 15k to 170k in salary...There's no...   \n",
       "1     2020-06-26  14:14:44  Hi Tom, sorry about that! We try to respond to...   \n",
       "2     2020-06-26  12:00:14  Become an @rstudio power user: https://bit.ly/...   \n",
       "3     2020-06-26  11:23:21  Please get in touch with our support team by e...   \n",
       "4     2020-06-26  02:00:05  Learn to master R markdown in this free tutori...   \n",
       "...          ...       ...                                                ...   \n",
       "4524  2015-07-01  20:35:57  @Ariella_CG Very strange, we'll look into this...   \n",
       "4525  2015-06-26  09:50:38  @taylor_atx @keen_io We used it at a learning ...   \n",
       "4526  2015-06-25  20:53:37  @keen_io Thanks, we love keen.io (and are happ...   \n",
       "4527  2015-06-22  04:30:10  Why image recognition still needs a lot of wor...   \n",
       "4528  2015-06-21  15:08:14  Check out our lesson on naive bayes in #python...   \n",
       "\n",
       "                       mentions  \\\n",
       "0                            []   \n",
       "1               ['beingtomiwa']   \n",
       "2                   ['rstudio']   \n",
       "3               ['jimohkassim']   \n",
       "4                            []   \n",
       "...                         ...   \n",
       "4524             ['ariella_cg']   \n",
       "4525  ['taylor_atx', 'keen_io']   \n",
       "4526                ['keen_io']   \n",
       "4527                         []   \n",
       "4528                         []   \n",
       "\n",
       "                                                 photos replies_count  \\\n",
       "0     ['https://pbs.twimg.com/media/EbrvY0SWoAcEQWn....             0   \n",
       "1                                                    []             0   \n",
       "2                                                    []             0   \n",
       "3                                                    []             0   \n",
       "4                                                    []             0   \n",
       "...                                                 ...           ...   \n",
       "4524                                                 []             1   \n",
       "4525                                                 []             1   \n",
       "4526                                                 []             2   \n",
       "4527                                                 []             0   \n",
       "4528                                                 []             0   \n",
       "\n",
       "      retweets_count  likes_count  hasimage  \n",
       "0                  0            0      True  \n",
       "1                  0            0     False  \n",
       "2                  2            7     False  \n",
       "3                  0            0     False  \n",
       "4                  2            7     False  \n",
       "...              ...          ...       ...  \n",
       "4524               0            0     False  \n",
       "4525               0            1     False  \n",
       "4526               0            1     False  \n",
       "4527               0            0     False  \n",
       "4528               0            4     False  \n",
       "\n",
       "[4529 rows x 9 columns]"
      ]
     },
     "execution_count": 10,
     "metadata": {},
     "output_type": "execute_result"
    }
   ],
   "source": [
    "df"
   ]
  },
  {
   "attachments": {},
   "cell_type": "markdown",
   "metadata": {},
   "source": [
    "#### Split dataset based on whether image url is attached to tweet or not"
   ]
  },
  {
   "cell_type": "code",
   "execution_count": 11,
   "metadata": {},
   "outputs": [],
   "source": [
    "image_tweets = df[df[\"hasimage\"]]\n",
    "non_image_tweets = df[~df[\"hasimage\"]]"
   ]
  },
  {
   "cell_type": "code",
   "execution_count": 14,
   "metadata": {},
   "outputs": [
    {
     "data": {
      "text/html": [
       "<div>\n",
       "<style scoped>\n",
       "    .dataframe tbody tr th:only-of-type {\n",
       "        vertical-align: middle;\n",
       "    }\n",
       "\n",
       "    .dataframe tbody tr th {\n",
       "        vertical-align: top;\n",
       "    }\n",
       "\n",
       "    .dataframe thead th {\n",
       "        text-align: right;\n",
       "    }\n",
       "</style>\n",
       "<table border=\"1\" class=\"dataframe\">\n",
       "  <thead>\n",
       "    <tr style=\"text-align: right;\">\n",
       "      <th></th>\n",
       "      <th>date</th>\n",
       "      <th>time</th>\n",
       "      <th>tweet</th>\n",
       "      <th>mentions</th>\n",
       "      <th>photos</th>\n",
       "      <th>replies_count</th>\n",
       "      <th>retweets_count</th>\n",
       "      <th>likes_count</th>\n",
       "      <th>hasimage</th>\n",
       "    </tr>\n",
       "  </thead>\n",
       "  <tbody>\n",
       "    <tr>\n",
       "      <th>0</th>\n",
       "      <td>2020-06-29</td>\n",
       "      <td>09:36:13</td>\n",
       "      <td>\"Going from 15k to 170k in salary...There's no...</td>\n",
       "      <td>[]</td>\n",
       "      <td>['https://pbs.twimg.com/media/EbrvY0SWoAcEQWn....</td>\n",
       "      <td>0</td>\n",
       "      <td>0</td>\n",
       "      <td>0</td>\n",
       "      <td>True</td>\n",
       "    </tr>\n",
       "    <tr>\n",
       "      <th>7</th>\n",
       "      <td>2020-06-25</td>\n",
       "      <td>10:03:04</td>\n",
       "      <td>\"I'm really learning more at Dataquest than fr...</td>\n",
       "      <td>[]</td>\n",
       "      <td>['https://pbs.twimg.com/media/EbXPOjqXgAIgE2f....</td>\n",
       "      <td>1</td>\n",
       "      <td>0</td>\n",
       "      <td>4</td>\n",
       "      <td>True</td>\n",
       "    </tr>\n",
       "    <tr>\n",
       "      <th>10</th>\n",
       "      <td>2020-06-24</td>\n",
       "      <td>09:38:54</td>\n",
       "      <td>\"Dataquest really helped me to switch my caree...</td>\n",
       "      <td>[]</td>\n",
       "      <td>['https://pbs.twimg.com/media/EbR_-LoXsAEoCB3....</td>\n",
       "      <td>1</td>\n",
       "      <td>0</td>\n",
       "      <td>0</td>\n",
       "      <td>True</td>\n",
       "    </tr>\n",
       "    <tr>\n",
       "      <th>12</th>\n",
       "      <td>2020-06-23</td>\n",
       "      <td>18:00:28</td>\n",
       "      <td>We've shared this @lizandmollie image before, ...</td>\n",
       "      <td>['lizandmollie']</td>\n",
       "      <td>['https://pbs.twimg.com/media/EbOpVg6WAAAJcIH....</td>\n",
       "      <td>0</td>\n",
       "      <td>16</td>\n",
       "      <td>41</td>\n",
       "      <td>True</td>\n",
       "    </tr>\n",
       "    <tr>\n",
       "      <th>21</th>\n",
       "      <td>2020-06-22</td>\n",
       "      <td>12:51:55</td>\n",
       "      <td>\"I feel more comfortable using data, which all...</td>\n",
       "      <td>[]</td>\n",
       "      <td>['https://pbs.twimg.com/media/EbIZHbMX0AIXy1p....</td>\n",
       "      <td>1</td>\n",
       "      <td>0</td>\n",
       "      <td>1</td>\n",
       "      <td>True</td>\n",
       "    </tr>\n",
       "  </tbody>\n",
       "</table>\n",
       "</div>"
      ],
      "text/plain": [
       "          date      time                                              tweet  \\\n",
       "0   2020-06-29  09:36:13  \"Going from 15k to 170k in salary...There's no...   \n",
       "7   2020-06-25  10:03:04  \"I'm really learning more at Dataquest than fr...   \n",
       "10  2020-06-24  09:38:54  \"Dataquest really helped me to switch my caree...   \n",
       "12  2020-06-23  18:00:28  We've shared this @lizandmollie image before, ...   \n",
       "21  2020-06-22  12:51:55  \"I feel more comfortable using data, which all...   \n",
       "\n",
       "            mentions                                             photos  \\\n",
       "0                 []  ['https://pbs.twimg.com/media/EbrvY0SWoAcEQWn....   \n",
       "7                 []  ['https://pbs.twimg.com/media/EbXPOjqXgAIgE2f....   \n",
       "10                []  ['https://pbs.twimg.com/media/EbR_-LoXsAEoCB3....   \n",
       "12  ['lizandmollie']  ['https://pbs.twimg.com/media/EbOpVg6WAAAJcIH....   \n",
       "21                []  ['https://pbs.twimg.com/media/EbIZHbMX0AIXy1p....   \n",
       "\n",
       "   replies_count  retweets_count  likes_count  hasimage  \n",
       "0              0               0            0      True  \n",
       "7              1               0            4      True  \n",
       "10             1               0            0      True  \n",
       "12             0              16           41      True  \n",
       "21             1               0            1      True  "
      ]
     },
     "execution_count": 14,
     "metadata": {},
     "output_type": "execute_result"
    }
   ],
   "source": [
    "image_tweets.head()"
   ]
  },
  {
   "cell_type": "code",
   "execution_count": 15,
   "metadata": {},
   "outputs": [
    {
     "data": {
      "text/html": [
       "<div>\n",
       "<style scoped>\n",
       "    .dataframe tbody tr th:only-of-type {\n",
       "        vertical-align: middle;\n",
       "    }\n",
       "\n",
       "    .dataframe tbody tr th {\n",
       "        vertical-align: top;\n",
       "    }\n",
       "\n",
       "    .dataframe thead th {\n",
       "        text-align: right;\n",
       "    }\n",
       "</style>\n",
       "<table border=\"1\" class=\"dataframe\">\n",
       "  <thead>\n",
       "    <tr style=\"text-align: right;\">\n",
       "      <th></th>\n",
       "      <th>date</th>\n",
       "      <th>time</th>\n",
       "      <th>tweet</th>\n",
       "      <th>mentions</th>\n",
       "      <th>photos</th>\n",
       "      <th>replies_count</th>\n",
       "      <th>retweets_count</th>\n",
       "      <th>likes_count</th>\n",
       "      <th>hasimage</th>\n",
       "    </tr>\n",
       "  </thead>\n",
       "  <tbody>\n",
       "    <tr>\n",
       "      <th>1</th>\n",
       "      <td>2020-06-26</td>\n",
       "      <td>14:14:44</td>\n",
       "      <td>Hi Tom, sorry about that! We try to respond to...</td>\n",
       "      <td>['beingtomiwa']</td>\n",
       "      <td>[]</td>\n",
       "      <td>0</td>\n",
       "      <td>0</td>\n",
       "      <td>0</td>\n",
       "      <td>False</td>\n",
       "    </tr>\n",
       "    <tr>\n",
       "      <th>2</th>\n",
       "      <td>2020-06-26</td>\n",
       "      <td>12:00:14</td>\n",
       "      <td>Become an @rstudio power user: https://bit.ly/...</td>\n",
       "      <td>['rstudio']</td>\n",
       "      <td>[]</td>\n",
       "      <td>0</td>\n",
       "      <td>2</td>\n",
       "      <td>7</td>\n",
       "      <td>False</td>\n",
       "    </tr>\n",
       "    <tr>\n",
       "      <th>3</th>\n",
       "      <td>2020-06-26</td>\n",
       "      <td>11:23:21</td>\n",
       "      <td>Please get in touch with our support team by e...</td>\n",
       "      <td>['jimohkassim']</td>\n",
       "      <td>[]</td>\n",
       "      <td>0</td>\n",
       "      <td>0</td>\n",
       "      <td>0</td>\n",
       "      <td>False</td>\n",
       "    </tr>\n",
       "    <tr>\n",
       "      <th>4</th>\n",
       "      <td>2020-06-26</td>\n",
       "      <td>02:00:05</td>\n",
       "      <td>Learn to master R markdown in this free tutori...</td>\n",
       "      <td>[]</td>\n",
       "      <td>[]</td>\n",
       "      <td>0</td>\n",
       "      <td>2</td>\n",
       "      <td>7</td>\n",
       "      <td>False</td>\n",
       "    </tr>\n",
       "    <tr>\n",
       "      <th>5</th>\n",
       "      <td>2020-06-25</td>\n",
       "      <td>21:00:05</td>\n",
       "      <td>This is an interesting story about what was so...</td>\n",
       "      <td>[]</td>\n",
       "      <td>[]</td>\n",
       "      <td>0</td>\n",
       "      <td>1</td>\n",
       "      <td>2</td>\n",
       "      <td>False</td>\n",
       "    </tr>\n",
       "  </tbody>\n",
       "</table>\n",
       "</div>"
      ],
      "text/plain": [
       "         date      time                                              tweet  \\\n",
       "1  2020-06-26  14:14:44  Hi Tom, sorry about that! We try to respond to...   \n",
       "2  2020-06-26  12:00:14  Become an @rstudio power user: https://bit.ly/...   \n",
       "3  2020-06-26  11:23:21  Please get in touch with our support team by e...   \n",
       "4  2020-06-26  02:00:05  Learn to master R markdown in this free tutori...   \n",
       "5  2020-06-25  21:00:05  This is an interesting story about what was so...   \n",
       "\n",
       "          mentions photos replies_count  retweets_count  likes_count  hasimage  \n",
       "1  ['beingtomiwa']     []             0               0            0     False  \n",
       "2      ['rstudio']     []             0               2            7     False  \n",
       "3  ['jimohkassim']     []             0               0            0     False  \n",
       "4               []     []             0               2            7     False  \n",
       "5               []     []             0               1            2     False  "
      ]
     },
     "execution_count": 15,
     "metadata": {},
     "output_type": "execute_result"
    }
   ],
   "source": [
    "non_image_tweets.head()"
   ]
  },
  {
   "cell_type": "code",
   "execution_count": 18,
   "metadata": {},
   "outputs": [
    {
     "data": {
      "text/plain": [
       "array(['0', '1', '2', '3', '8', '5', '9', '[]', '10', '7', '4',\n",
       "       \"['https://pbs.twimg.com/media/DT1b9aKWkAURpTr.jpg']\"],\n",
       "      dtype=object)"
      ]
     },
     "execution_count": 18,
     "metadata": {},
     "output_type": "execute_result"
    }
   ],
   "source": [
    "df[\"replies_count\"].unique()"
   ]
  },
  {
   "cell_type": "code",
   "execution_count": 21,
   "metadata": {},
   "outputs": [],
   "source": [
    "df = df.astype(dtype={\n",
    "    \"replies_count\": \"int64\"\n",
    "}, errors=\"ignore\")"
   ]
  },
  {
   "cell_type": "code",
   "execution_count": 23,
   "metadata": {},
   "outputs": [
    {
     "name": "stdout",
     "output_type": "stream",
     "text": [
      "<class 'pandas.core.frame.DataFrame'>\n",
      "RangeIndex: 4529 entries, 0 to 4528\n",
      "Data columns (total 9 columns):\n",
      " #   Column          Non-Null Count  Dtype \n",
      "---  ------          --------------  ----- \n",
      " 0   date            4529 non-null   object\n",
      " 1   time            4529 non-null   object\n",
      " 2   tweet           4529 non-null   object\n",
      " 3   mentions        4529 non-null   object\n",
      " 4   photos          4529 non-null   object\n",
      " 5   replies_count   4529 non-null   object\n",
      " 6   retweets_count  4529 non-null   int64 \n",
      " 7   likes_count     4529 non-null   int64 \n",
      " 8   hasimage        4529 non-null   bool  \n",
      "dtypes: bool(1), int64(2), object(6)\n",
      "memory usage: 287.6+ KB\n"
     ]
    }
   ],
   "source": [
    "df.info()"
   ]
  },
  {
   "cell_type": "code",
   "execution_count": 29,
   "metadata": {},
   "outputs": [
    {
     "name": "stdout",
     "output_type": "stream",
     "text": [
      "Average likes, all tweets: 6.209759328770148\n",
      "Average likes, non_image tweets: 5.176514584891549\n",
      "Average likes, image tweets: 14.21042471042471\n"
     ]
    }
   ],
   "source": [
    "print(f\"Average likes, all tweets: {df['likes_count'].mean()}\")\n",
    "print(f\"Average likes, non_image tweets: {non_image_tweets['likes_count'].mean()}\")\n",
    "print(f\"Average likes, image tweets: {image_tweets['likes_count'].mean()}\")"
   ]
  },
  {
   "cell_type": "code",
   "execution_count": 28,
   "metadata": {},
   "outputs": [
    {
     "name": "stdout",
     "output_type": "stream",
     "text": [
      "Average RTs, all tweets: 1.5553102230072864\n",
      "Average RTs, non_image tweets: 1.2991772625280478\n",
      "Average RTs, image tweets: 3.5386100386100385\n"
     ]
    }
   ],
   "source": [
    "print(f\"Average RTs, all tweets: {df['retweets_count'].mean()}\")\n",
    "print(f\"Average RTs, non_image tweets: {non_image_tweets['retweets_count'].mean()}\")\n",
    "print(f\"Average RTs, image tweets: {image_tweets['retweets_count'].mean()}\")"
   ]
  },
  {
   "attachments": {},
   "cell_type": "markdown",
   "metadata": {},
   "source": [
    "#### Based on above results, it seems including images in tweets may promote more engagement"
   ]
  },
  {
   "cell_type": "code",
   "execution_count": 30,
   "metadata": {},
   "outputs": [
    {
     "data": {
      "text/plain": [
       "array([0, 1, 2, 3, 4, 5])"
      ]
     },
     "execution_count": 30,
     "metadata": {},
     "output_type": "execute_result"
    }
   ],
   "source": [
    "x = np.arange(6)\n",
    "x"
   ]
  },
  {
   "cell_type": "code",
   "execution_count": 31,
   "metadata": {},
   "outputs": [
    {
     "data": {
      "text/plain": [
       "array([  0,   1,   2, 444,  16,  25])"
      ]
     },
     "execution_count": 31,
     "metadata": {},
     "output_type": "execute_result"
    }
   ],
   "source": [
    "np.select([x < 3, x > 3], [x, x**2], 444)"
   ]
  },
  {
   "cell_type": "code",
   "execution_count": 32,
   "metadata": {},
   "outputs": [],
   "source": [
    "condlist = [\n",
    "    df[\"likes_count\"] <= 2,\n",
    "    (df[\"likes_count\"] > 2) & (df[\"likes_count\"] <=9),\n",
    "    (df[\"likes_count\"] > 9) & (df[\"likes_count\"] <= 15),\n",
    "    df[\"likes_count\"] > 15\n",
    "]\n",
    "choicelist = [\"tier_4\", \"tier_3\", \"tier_2\", \"tier_1\"]"
   ]
  },
  {
   "cell_type": "code",
   "execution_count": 33,
   "metadata": {},
   "outputs": [],
   "source": [
    "# new column 'tier' grading tweets based on number of likes\n",
    "df[\"tier\"] = np.select(condlist, choicelist)"
   ]
  },
  {
   "cell_type": "code",
   "execution_count": 34,
   "metadata": {},
   "outputs": [
    {
     "data": {
      "text/html": [
       "<div>\n",
       "<style scoped>\n",
       "    .dataframe tbody tr th:only-of-type {\n",
       "        vertical-align: middle;\n",
       "    }\n",
       "\n",
       "    .dataframe tbody tr th {\n",
       "        vertical-align: top;\n",
       "    }\n",
       "\n",
       "    .dataframe thead th {\n",
       "        text-align: right;\n",
       "    }\n",
       "</style>\n",
       "<table border=\"1\" class=\"dataframe\">\n",
       "  <thead>\n",
       "    <tr style=\"text-align: right;\">\n",
       "      <th></th>\n",
       "      <th>date</th>\n",
       "      <th>time</th>\n",
       "      <th>tweet</th>\n",
       "      <th>mentions</th>\n",
       "      <th>photos</th>\n",
       "      <th>replies_count</th>\n",
       "      <th>retweets_count</th>\n",
       "      <th>likes_count</th>\n",
       "      <th>hasimage</th>\n",
       "      <th>tier</th>\n",
       "    </tr>\n",
       "  </thead>\n",
       "  <tbody>\n",
       "    <tr>\n",
       "      <th>0</th>\n",
       "      <td>2020-06-29</td>\n",
       "      <td>09:36:13</td>\n",
       "      <td>\"Going from 15k to 170k in salary...There's no...</td>\n",
       "      <td>[]</td>\n",
       "      <td>['https://pbs.twimg.com/media/EbrvY0SWoAcEQWn....</td>\n",
       "      <td>0</td>\n",
       "      <td>0</td>\n",
       "      <td>0</td>\n",
       "      <td>True</td>\n",
       "      <td>tier_4</td>\n",
       "    </tr>\n",
       "    <tr>\n",
       "      <th>1</th>\n",
       "      <td>2020-06-26</td>\n",
       "      <td>14:14:44</td>\n",
       "      <td>Hi Tom, sorry about that! We try to respond to...</td>\n",
       "      <td>['beingtomiwa']</td>\n",
       "      <td>[]</td>\n",
       "      <td>0</td>\n",
       "      <td>0</td>\n",
       "      <td>0</td>\n",
       "      <td>False</td>\n",
       "      <td>tier_4</td>\n",
       "    </tr>\n",
       "    <tr>\n",
       "      <th>2</th>\n",
       "      <td>2020-06-26</td>\n",
       "      <td>12:00:14</td>\n",
       "      <td>Become an @rstudio power user: https://bit.ly/...</td>\n",
       "      <td>['rstudio']</td>\n",
       "      <td>[]</td>\n",
       "      <td>0</td>\n",
       "      <td>2</td>\n",
       "      <td>7</td>\n",
       "      <td>False</td>\n",
       "      <td>tier_3</td>\n",
       "    </tr>\n",
       "    <tr>\n",
       "      <th>3</th>\n",
       "      <td>2020-06-26</td>\n",
       "      <td>11:23:21</td>\n",
       "      <td>Please get in touch with our support team by e...</td>\n",
       "      <td>['jimohkassim']</td>\n",
       "      <td>[]</td>\n",
       "      <td>0</td>\n",
       "      <td>0</td>\n",
       "      <td>0</td>\n",
       "      <td>False</td>\n",
       "      <td>tier_4</td>\n",
       "    </tr>\n",
       "    <tr>\n",
       "      <th>4</th>\n",
       "      <td>2020-06-26</td>\n",
       "      <td>02:00:05</td>\n",
       "      <td>Learn to master R markdown in this free tutori...</td>\n",
       "      <td>[]</td>\n",
       "      <td>[]</td>\n",
       "      <td>0</td>\n",
       "      <td>2</td>\n",
       "      <td>7</td>\n",
       "      <td>False</td>\n",
       "      <td>tier_3</td>\n",
       "    </tr>\n",
       "  </tbody>\n",
       "</table>\n",
       "</div>"
      ],
      "text/plain": [
       "         date      time                                              tweet  \\\n",
       "0  2020-06-29  09:36:13  \"Going from 15k to 170k in salary...There's no...   \n",
       "1  2020-06-26  14:14:44  Hi Tom, sorry about that! We try to respond to...   \n",
       "2  2020-06-26  12:00:14  Become an @rstudio power user: https://bit.ly/...   \n",
       "3  2020-06-26  11:23:21  Please get in touch with our support team by e...   \n",
       "4  2020-06-26  02:00:05  Learn to master R markdown in this free tutori...   \n",
       "\n",
       "          mentions                                             photos  \\\n",
       "0               []  ['https://pbs.twimg.com/media/EbrvY0SWoAcEQWn....   \n",
       "1  ['beingtomiwa']                                                 []   \n",
       "2      ['rstudio']                                                 []   \n",
       "3  ['jimohkassim']                                                 []   \n",
       "4               []                                                 []   \n",
       "\n",
       "  replies_count  retweets_count  likes_count  hasimage    tier  \n",
       "0             0               0            0      True  tier_4  \n",
       "1             0               0            0     False  tier_4  \n",
       "2             0               2            7     False  tier_3  \n",
       "3             0               0            0     False  tier_4  \n",
       "4             0               2            7     False  tier_3  "
      ]
     },
     "execution_count": 34,
     "metadata": {},
     "output_type": "execute_result"
    }
   ],
   "source": [
    "df.head()"
   ]
  },
  {
   "cell_type": "code",
   "execution_count": 35,
   "metadata": {},
   "outputs": [
    {
     "data": {
      "text/plain": [
       "array(['tier_4', 'tier_3', 'tier_2', 'tier_1'], dtype=object)"
      ]
     },
     "execution_count": 35,
     "metadata": {},
     "output_type": "execute_result"
    }
   ],
   "source": [
    "df[\"tier\"].unique()"
   ]
  },
  {
   "cell_type": "code",
   "execution_count": 36,
   "metadata": {},
   "outputs": [
    {
     "data": {
      "text/plain": [
       "tier_4    2343\n",
       "tier_3    1331\n",
       "tier_2     475\n",
       "tier_1     380\n",
       "Name: tier, dtype: int64"
      ]
     },
     "execution_count": 36,
     "metadata": {},
     "output_type": "execute_result"
    }
   ],
   "source": [
    "df[\"tier\"].value_counts()"
   ]
  },
  {
   "attachments": {},
   "cell_type": "markdown",
   "metadata": {},
   "source": [
    "#### Compare fraction of tier_4 and tier_1 tweets that have image url attached"
   ]
  },
  {
   "cell_type": "code",
   "execution_count": 38,
   "metadata": {},
   "outputs": [
    {
     "data": {
      "text/plain": [
       "False    0.948784\n",
       "True     0.051216\n",
       "Name: hasimage, dtype: float64"
      ]
     },
     "execution_count": 38,
     "metadata": {},
     "output_type": "execute_result"
    }
   ],
   "source": [
    "df[df[\"tier\"] == \"tier_4\"][\"hasimage\"].value_counts(normalize=True)"
   ]
  },
  {
   "cell_type": "code",
   "execution_count": 39,
   "metadata": {},
   "outputs": [
    {
     "data": {
      "text/plain": [
       "False    0.836842\n",
       "True     0.163158\n",
       "Name: hasimage, dtype: float64"
      ]
     },
     "execution_count": 39,
     "metadata": {},
     "output_type": "execute_result"
    }
   ],
   "source": [
    "df[df[\"tier\"] == \"tier_1\"][\"hasimage\"].value_counts(normalize=True)"
   ]
  },
  {
   "cell_type": "code",
   "execution_count": null,
   "metadata": {},
   "outputs": [],
   "source": []
  }
 ],
 "metadata": {
  "kernelspec": {
   "display_name": "Python 3",
   "language": "python",
   "name": "python3"
  },
  "language_info": {
   "codemirror_mode": {
    "name": "ipython",
    "version": 3
   },
   "file_extension": ".py",
   "mimetype": "text/x-python",
   "name": "python",
   "nbconvert_exporter": "python",
   "pygments_lexer": "ipython3",
   "version": "3.10.6"
  },
  "orig_nbformat": 4,
  "vscode": {
   "interpreter": {
    "hash": "0c62ecade22fff4c1d31446e36615b3ce67a81b5933d46e8d3b7993b34a0b8fe"
   }
  }
 },
 "nbformat": 4,
 "nbformat_minor": 2
}
